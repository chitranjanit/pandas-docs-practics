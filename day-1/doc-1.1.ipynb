{
 "cells": [
  {
   "cell_type": "markdown",
   "metadata": {},
   "source": [
    "### 1.1) Bug Fixes ###"
   ]
  },
  {
   "cell_type": "markdown",
   "metadata": {},
   "source": [
    "### 1.1.1 Indexing ###"
   ]
  },
  {
   "cell_type": "raw",
   "metadata": {},
   "source": [
    "*Fix regression in DataFrame.reindex() not following the limit argument (GH28631).\n",
    "* Fix regression in RangeIndex.get_indexer() for decreasing RangeIndex where target values may be\n",
    "improperly identified as missing/present (GH28678)"
   ]
  },
  {
   "cell_type": "markdown",
   "metadata": {},
   "source": [
    "### 1.1.2 I/O ###"
   ]
  },
  {
   "cell_type": "raw",
   "metadata": {},
   "source": [
    "*Fix regressioninnotebookdisplaywhere<th>tagsweremissingforDataFrame.indexvalues(GH28204).\n",
    "• Regression in to_csv() where writing a Series or DataFrame indexed by an IntervalIndex would\n",
    "incorrectly raise a TypeError (GH28210)\n",
    "• Fix to_csv() with ExtensionArray with list-like values (GH28840)."
   ]
  },
  {
   "cell_type": "code",
   "execution_count": null,
   "metadata": {},
   "outputs": [],
   "source": []
  }
 ],
 "metadata": {
  "kernelspec": {
   "display_name": "Python 3",
   "language": "python",
   "name": "python3"
  },
  "language_info": {
   "codemirror_mode": {
    "name": "ipython",
    "version": 3
   },
   "file_extension": ".py",
   "mimetype": "text/x-python",
   "name": "python",
   "nbconvert_exporter": "python",
   "pygments_lexer": "ipython3",
   "version": "3.7.4"
  }
 },
 "nbformat": 4,
 "nbformat_minor": 2
}
